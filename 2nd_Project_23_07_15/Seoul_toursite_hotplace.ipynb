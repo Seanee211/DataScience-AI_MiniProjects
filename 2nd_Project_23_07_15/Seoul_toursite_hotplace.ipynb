{
 "cells": [
  {
   "cell_type": "code",
   "execution_count": 1,
   "metadata": {},
   "outputs": [],
   "source": [
    "import pandas as pd\n",
    "file_name = r'D:\\my_jupyter\\EXAM_PANDAS\\mini_project\\이수진\\주요관광지점_서울_2017.xlsx'\n",
    "address = r'D:\\my_jupyter\\EXAM_PANDAS\\mini_project\\이수진'\n",
    "df = pd.read_excel(file_name, skiprows=[0], index_col=[3])"
   ]
  },
  {
   "cell_type": "code",
   "execution_count": null,
   "metadata": {},
   "outputs": [],
   "source": [
    "# 서울 관광지의 인구 분석을 통해 어떤 곳이 가장 핫플인지와 년도별 핫플을 분석 및 추출\n",
    "# \"Analyzing the population data of tourist spots in Seoul to determine the most popular places, \n",
    "# and extracting and analyzing the popular places by year.\""
   ]
  },
  {
   "cell_type": "code",
   "execution_count": 2,
   "metadata": {},
   "outputs": [],
   "source": [
    "# 쓸모없는 컬럼 삭제\n",
    "# Drop unnecessary columns\n",
    "\n",
    "df = df.drop(['내국인', '외국인'])\n"
   ]
  },
  {
   "cell_type": "code",
   "execution_count": 3,
   "metadata": {},
   "outputs": [],
   "source": [
    "# 컬럼명 지정\n",
    "# rename columns\n",
    "\n",
    "df.rename(columns={'Unnamed: 4':'합계', \n",
    "                   'Unnamed: 2':'관광지', \n",
    "                   'Unnamed: 1':'군구', \n",
    "                   'Unnamed: 0':'광역시'}, inplace=True)"
   ]
  },
  {
   "cell_type": "code",
   "execution_count": 4,
   "metadata": {},
   "outputs": [],
   "source": [
    "# '군구'로 컬럼 설정\n",
    "# set index to 'Gungu'('district' in Korean)\n",
    "\n",
    "df.set_index('군구', inplace=True)\n",
    "\n",
    "# 쓸모없는 컬럼 삭제\n",
    "# Drop unnecessary columns\n",
    "\n",
    "df.drop('광역시', axis=1, inplace=True)"
   ]
  },
  {
   "cell_type": "markdown",
   "metadata": {},
   "source": [
    "### 1. 관광지 년도별 총 인원 ================================"
   ]
  },
  {
   "cell_type": "code",
   "execution_count": 5,
   "metadata": {},
   "outputs": [],
   "source": [
    "# 인원계 = 관광지 년도별 총 인원\n",
    "# Max population for each tour-site\n",
    "\n",
    "# 인원계를 기준으로 시리즈 추출\n",
    "# splitting max population into a number of Series Object\n",
    "\n",
    "sumof_2017 = df['인원계']\n",
    "sumof_2018 = df['인원계.1']\n",
    "sumof_2019 = df['인원계.2']\n",
    "sumof_2020 = df['인원계.3']\n",
    "sumof_2021 = df['인원계.4']\n",
    "sumof_2022 = df['인원계.5']"
   ]
  },
  {
   "cell_type": "code",
   "execution_count": 6,
   "metadata": {},
   "outputs": [],
   "source": [
    "# 인원계 시리즈들을 병합\n",
    "# concatenate all the max-population series into one dataframe\n",
    "\n",
    "excel_series = pd.concat([sumof_2017, \n",
    "                          sumof_2018, \n",
    "                          sumof_2019, \n",
    "                          sumof_2020, \n",
    "                          sumof_2021, \n",
    "                          sumof_2022], axis=1)\n",
    "# excel_series"
   ]
  },
  {
   "cell_type": "code",
   "execution_count": 7,
   "metadata": {},
   "outputs": [],
   "source": [
    "# 컬럼명 깔끔하게 변경\n",
    "# Organize column names \n",
    "\n",
    "excel_series.rename(columns={'인원계':'2017년 인원', \n",
    "                     '인원계.1':'2018년 인원',\n",
    "                     '인원계.2':'2019년 인원',\n",
    "                     '인원계.3':'2020년 인원',\n",
    "                     '인원계.4':'2021년 인원',\n",
    "                     '인원계.5':'2022년 인원'}, inplace=True)"
   ]
  },
  {
   "cell_type": "code",
   "execution_count": 8,
   "metadata": {},
   "outputs": [],
   "source": [
    "# '년도별 총 인원' 열 추가, 각 인원계 시리즈들의 합\n",
    "# Add a new row: 'Annual Max Population' based on the sum of series \n",
    "\n",
    "excel_series.loc['년도별 총 인원'] = excel_series.sum(axis=0)\n",
    "excel_series=excel_series.fillna(0)"
   ]
  },
  {
   "cell_type": "markdown",
   "metadata": {},
   "source": [
    "### 2. 관광지별 랭킹 구성 ==================================="
   ]
  },
  {
   "cell_type": "code",
   "execution_count": 9,
   "metadata": {},
   "outputs": [],
   "source": [
    "# 가시성 위해 '군구' 및 '관광지'로 멀티인덱싱\n",
    "# Muti-indexing with 'district' and 'tour-site' for visibility\n",
    "\n",
    "df.reset_index(inplace=True)\n",
    "df.set_index(['군구','관광지'], inplace=True)"
   ]
  },
  {
   "cell_type": "code",
   "execution_count": 10,
   "metadata": {},
   "outputs": [],
   "source": [
    "# 관광지 년도별 인원 추합\n",
    "# \"Annual Tour-Site Population\" summation\n",
    "\n",
    "year_2017 = df['인원계']\n",
    "year_2018 = df['인원계.1']\n",
    "year_2019 = df['인원계.2']\n",
    "year_2020 = df['인원계.3']\n",
    "year_2021 = df['인원계.4']\n",
    "year_2022 = df['인원계.5']"
   ]
  },
  {
   "cell_type": "code",
   "execution_count": 11,
   "metadata": {},
   "outputs": [],
   "source": [
    "# 관광지 년도별 최대 인원 추합\n",
    "# \"Annual Tour-Site Max Population\" summation\n",
    "\n",
    "year_2017_max = year_2017.max()\n",
    "year_2018_max = year_2018.max()\n",
    "year_2019_max = year_2019.max()\n",
    "year_2020_max = year_2020.max()\n",
    "year_2021_max = year_2021.max()\n",
    "year_2022_max = year_2022.max()"
   ]
  },
  {
   "cell_type": "code",
   "execution_count": 12,
   "metadata": {},
   "outputs": [],
   "source": [
    "# df 정리 후, \"합계\"를 기준으로 랭킹 내림차순으로 sort\n",
    "# After organizing the dataframe, Descend ranking order based on \"total\"\n",
    "\n",
    "df.fillna(0, inplace=True)\n",
    "df.sort_values(by='합계', ascending=False, inplace=True)"
   ]
  },
  {
   "cell_type": "code",
   "execution_count": 13,
   "metadata": {},
   "outputs": [],
   "source": [
    "# 첫번째 인덱스에 '순위' 열 추가 후 랭킹 구성\n",
    "# Add a new column 'rank' on the first index \n",
    "\n",
    "df.insert(0, '순위',range(1, len(df.index)+1))\n",
    "df_rank = df"
   ]
  },
  {
   "cell_type": "markdown",
   "metadata": {},
   "source": [
    "### 3. 군구별 인기도 현황 ================================="
   ]
  },
  {
   "cell_type": "code",
   "execution_count": 14,
   "metadata": {},
   "outputs": [],
   "source": [
    "# 관광지를 년도별 및 월별 시리즈로 구분\n",
    "# Classify 'Tour-Site' annually and monthly\n",
    "\n",
    "monthly_2017 = df.iloc[:, 3:15] \n",
    "monthly_2018 = df.iloc[:, 16:28]\n",
    "monthly_2019 = df.iloc[:, 29:29+12]\n",
    "monthly_2020 = df.iloc[:, 41+1:41+13]\n",
    "monthly_2021 = df.iloc[:, 54+1:54+13]\n",
    "monthly_2022 = df.iloc[:, 67+1:67+13]"
   ]
  },
  {
   "cell_type": "code",
   "execution_count": 15,
   "metadata": {},
   "outputs": [],
   "source": [
    "# 각 년도별 시리즈에 '월별최대' 행 추가\n",
    "# add row 'Monthly max population' into the annual series objects \n",
    "\n",
    "monthly_2017.loc['월별최대'] = df.max(axis=0) \n",
    "monthly_2018.loc['월별최대'] = df.max(axis=0)\n",
    "monthly_2019.loc['월별최대'] = df.max(axis=0)\n",
    "monthly_2020.loc['월별최대'] = df.max(axis=0)\n",
    "monthly_2021.loc['월별최대'] = df.max(axis=0)\n",
    "monthly_2022.loc['월별최대'] = df.max(axis=0) "
   ]
  },
  {
   "cell_type": "code",
   "execution_count": 16,
   "metadata": {},
   "outputs": [
    {
     "data": {
      "text/plain": [
       "647843.0"
      ]
     },
     "execution_count": 16,
     "metadata": {},
     "output_type": "execute_result"
    }
   ],
   "source": [
    "# 각 월별 최대치\n",
    "# Checking all monthly max population\n",
    "\n",
    "monthly_2017.loc['월별최대'].max()\n",
    "monthly_2018.loc['월별최대'].max()\n",
    "monthly_2019.loc['월별최대'].max()\n",
    "monthly_2020.loc['월별최대'].max()\n",
    "monthly_2021.loc['월별최대'].max()\n",
    "monthly_2022.loc['월별최대'].max()"
   ]
  },
  {
   "cell_type": "code",
   "execution_count": 17,
   "metadata": {},
   "outputs": [],
   "source": [
    "# 손쉬운 정리를 위한 각 년도별 transpose\n",
    "# Transpose for easy organization\n",
    "\n",
    "monthly_2017 = monthly_2017.T \n",
    "monthly_2018 = monthly_2018.T\n",
    "monthly_2019 = monthly_2019.T\n",
    "monthly_2020 = monthly_2020.T\n",
    "monthly_2021 = monthly_2021.T\n",
    "monthly_2022 = monthly_2022.T"
   ]
  },
  {
   "cell_type": "code",
   "execution_count": 18,
   "metadata": {},
   "outputs": [],
   "source": [
    "# 각 관광지의 최대값 추출\n",
    "# Extract the max population for each tour-site\n",
    "\n",
    "v_2017 = monthly_2017.describe().loc['max'] \n",
    "v_2018 = monthly_2018.describe().loc['max']\n",
    "v_2019 = monthly_2019.describe().loc['max']\n",
    "v_2020 = monthly_2020.describe().loc['max']\n",
    "v_2021 = monthly_2021.describe().loc['max']\n",
    "v_2022 = monthly_2022.describe().loc['max']"
   ]
  },
  {
   "cell_type": "code",
   "execution_count": 19,
   "metadata": {},
   "outputs": [],
   "source": [
    "# 각 관광지 년도별 핫플 범주화: \"영플\", \"중플\", \"핫플\"\n",
    "# Classification based on Quantile for the annual population for each tour-site: \"rural\", \"suburbs\", \"urban\"\n",
    "# \n",
    "\n",
    "bin_2017 = [v_2017.min(), v_2017.quantile(0.25), v_2017.quantile(0.75), v_2017.max()] \n",
    "hotp_2017 = pd.cut(v_2017, bins=bin_2017, labels=['영플', '중플', '핫플'], include_lowest=True)\n",
    "\n",
    "bin_2018 = [v_2018.min(), v_2018.quantile(0.25), v_2018.quantile(0.75), v_2018.max()]\n",
    "hotp_2018 = pd.cut(v_2018, bins=bin_2018, labels=['영플', '중플', '핫플'], include_lowest=True)\n",
    "\n",
    "bin_2019 = [v_2019.min(), v_2019.quantile(0.25), v_2019.quantile(0.75), v_2019.max()]\n",
    "hotp_2019 = pd.cut(v_2019, bins=bin_2019, labels=['영플', '중플', '핫플'], include_lowest=True)\n",
    "\n",
    "bin_2020 = [v_2020.min(), v_2020.quantile(0.25), v_2020.quantile(0.75), v_2020.max()]\n",
    "hotp_2020 = pd.cut(v_2020, bins=bin_2020, labels=['영플', '중플', '핫플'], include_lowest=True)\n",
    "\n",
    "bin_2021 = [v_2021.min(), v_2021.quantile(0.25), v_2021.quantile(0.75), v_2021.max()]\n",
    "hotp_2021 = pd.cut(v_2021, bins=bin_2021, labels=['영플', '중플', '핫플'], include_lowest=True)\n",
    "\n",
    "bin_2022 = [v_2022.min(), v_2022.quantile(0.25), v_2022.quantile(0.75), v_2022.max()]\n",
    "hotp_2022 = pd.cut(v_2022, bins=bin_2022, labels=['영플', '중플', '핫플'], include_lowest=True)"
   ]
  },
  {
   "cell_type": "code",
   "execution_count": 20,
   "metadata": {},
   "outputs": [],
   "source": [
    "FLAG = False\n",
    "if FLAG:\n",
    "    # 2017 ~ 2022년간 사람들이 가장 많이 간 곳 ========\n",
    "    # save the data of \"The max population for tour-sites in Seoul between the years 2017 to 2022\" to excel\n",
    "    df_rank.to_excel(address + r'\\tour_ranks.xlsx')\n",
    "\n",
    "    # 년도별 가장 많은 관광객이 다녀간 곳 =============\n",
    "    # The annual max population for each tour-sites\n",
    "    excel_series.to_excel(address + r'\\year_based_population.xlsx')\n",
    "\n",
    "    # 각 년도별 관광지 핫플 ==========================\n",
    "    # The max population tour-site classified annually\n",
    "    hotp_2017.to_excel(address + r'\\hotp_2017.xlsx')\n",
    "    hotp_2018.to_excel(address + r'\\hotp_2018.xlsx')\n",
    "    hotp_2019.to_excel(address + r'\\hotp_2019.xlsx')\n",
    "    hotp_2020.to_excel(address + r'\\hotp_2020.xlsx')\n",
    "    hotp_2021.to_excel(address + r'\\hotp_2021.xlsx')\n",
    "    hotp_2022.to_excel(address + r'\\hotp_2022.xlsx')\n",
    "else:\n",
    "    pass"
   ]
  },
  {
   "cell_type": "code",
   "execution_count": null,
   "metadata": {},
   "outputs": [],
   "source": []
  }
 ],
 "metadata": {
  "kernelspec": {
   "display_name": "Python 3 (ipykernel)",
   "language": "python",
   "name": "python3"
  },
  "language_info": {
   "codemirror_mode": {
    "name": "ipython",
    "version": 3
   },
   "file_extension": ".py",
   "mimetype": "text/x-python",
   "name": "python",
   "nbconvert_exporter": "python",
   "pygments_lexer": "ipython3",
   "version": "3.9.17"
  }
 },
 "nbformat": 4,
 "nbformat_minor": 2
}
