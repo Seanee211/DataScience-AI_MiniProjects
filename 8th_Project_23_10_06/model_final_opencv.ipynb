{
 "cells": [
  {
   "cell_type": "code",
   "execution_count": 27,
   "metadata": {},
   "outputs": [],
   "source": [
    "import numpy as np\n",
    "import pandas as pd\n",
    "import cv2"
   ]
  },
  {
   "cell_type": "code",
   "execution_count": 28,
   "metadata": {},
   "outputs": [],
   "source": [
    "# bottle_df = pd.DataFrame([])\n",
    "\n",
    "# for n in range(5):\n",
    "#     df = pd.read_csv(f\"bottle_image_data_{n}.csv\")\n",
    "#     bottle_df = pd.concat([bottle_df, df])"
   ]
  },
  {
   "cell_type": "code",
   "execution_count": 29,
   "metadata": {},
   "outputs": [],
   "source": [
    "# glass_df = pd.read_csv('glass.csv')\n",
    "# paper_df = pd.read_csv('paper_all.csv')\n",
    "# styrofoam_df = pd.read_csv('styrofoam.csv')\n",
    "# can_df = pd.read_csv('can.csv')\n",
    "# bottle_df = pd.read_csv('bottle.csv')"
   ]
  },
  {
   "cell_type": "code",
   "execution_count": 30,
   "metadata": {},
   "outputs": [],
   "source": [
    "# glass_df.drop(columns=glass_df.columns[0], inplace=True)\n",
    "# bottle_df.drop(columns=glass_df.columns[0], inplace=True)"
   ]
  },
  {
   "cell_type": "code",
   "execution_count": 31,
   "metadata": {},
   "outputs": [],
   "source": [
    "# bottle_df.drop(columns=bottle_df.columns[0], inplace=True)"
   ]
  },
  {
   "cell_type": "code",
   "execution_count": 32,
   "metadata": {},
   "outputs": [],
   "source": [
    "# final_ = pd.concat([paper_df, glass_df, styrofoam_df, can_df, bottle_df], ignore_index=True)"
   ]
  },
  {
   "cell_type": "code",
   "execution_count": 33,
   "metadata": {},
   "outputs": [],
   "source": [
    "# final_.to_csv('final.csv')"
   ]
  },
  {
   "cell_type": "code",
   "execution_count": 34,
   "metadata": {},
   "outputs": [],
   "source": [
    "final_df = pd.read_csv('final.csv')"
   ]
  },
  {
   "cell_type": "code",
   "execution_count": 35,
   "metadata": {},
   "outputs": [
    {
     "data": {
      "text/plain": [
       "(26939, 22502)"
      ]
     },
     "execution_count": 35,
     "metadata": {},
     "output_type": "execute_result"
    }
   ],
   "source": [
    "final_df.shape"
   ]
  },
  {
   "cell_type": "code",
   "execution_count": 36,
   "metadata": {},
   "outputs": [],
   "source": [
    "from autogluon.tabular import TabularPredictor"
   ]
  },
  {
   "cell_type": "code",
   "execution_count": null,
   "metadata": {},
   "outputs": [],
   "source": []
  },
  {
   "cell_type": "code",
   "execution_count": 37,
   "metadata": {},
   "outputs": [],
   "source": [
    "final_part1 = final_df.iloc[:, :5000].astype('int16')\n",
    "final_part2 = final_df.iloc[:, 5000:10000].astype('int16')\n",
    "final_part3 = final_df.iloc[:, 10000:15000].astype('int16')\n",
    "final_part4 = final_df.iloc[:, 15000:20000].astype('int16')\n",
    "final_part5 = final_df.iloc[:, 20000:-1].astype('int16')\n",
    "final_part6 = final_df.iloc[:, -1]"
   ]
  },
  {
   "cell_type": "code",
   "execution_count": 38,
   "metadata": {},
   "outputs": [
    {
     "data": {
      "text/plain": [
       "(26939, 22502)"
      ]
     },
     "execution_count": 38,
     "metadata": {},
     "output_type": "execute_result"
    }
   ],
   "source": [
    "final_df.shape"
   ]
  },
  {
   "cell_type": "code",
   "execution_count": 39,
   "metadata": {},
   "outputs": [],
   "source": [
    "second_ = pd.concat([final_part1, final_part2, final_part3, final_part4, final_part5, final_part6], axis=1, ignore_index=True)"
   ]
  },
  {
   "cell_type": "code",
   "execution_count": 40,
   "metadata": {},
   "outputs": [
    {
     "data": {
      "text/plain": [
       "(26939, 22502)"
      ]
     },
     "execution_count": 40,
     "metadata": {},
     "output_type": "execute_result"
    }
   ],
   "source": [
    "second_.shape"
   ]
  },
  {
   "cell_type": "code",
   "execution_count": 41,
   "metadata": {},
   "outputs": [
    {
     "name": "stdout",
     "output_type": "stream",
     "text": [
      "<class 'pandas.core.frame.DataFrame'>\n",
      "RangeIndex: 26939 entries, 0 to 26938\n",
      "Columns: 22502 entries, 0 to 22501\n",
      "dtypes: int16(22501), object(1)\n",
      "memory usage: 1.1+ GB\n"
     ]
    }
   ],
   "source": [
    "second_.info()"
   ]
  },
  {
   "cell_type": "code",
   "execution_count": 42,
   "metadata": {},
   "outputs": [],
   "source": [
    "second_.rename(columns={second_.columns[-1]:'label'}, inplace=True)"
   ]
  },
  {
   "cell_type": "code",
   "execution_count": 43,
   "metadata": {},
   "outputs": [
    {
     "data": {
      "text/plain": [
       "(26939, 22502)"
      ]
     },
     "execution_count": 43,
     "metadata": {},
     "output_type": "execute_result"
    }
   ],
   "source": [
    "second_.shape"
   ]
  },
  {
   "cell_type": "code",
   "execution_count": 44,
   "metadata": {},
   "outputs": [],
   "source": [
    "# second_.to_csv('final_int32.csv')"
   ]
  },
  {
   "cell_type": "code",
   "execution_count": 45,
   "metadata": {},
   "outputs": [],
   "source": [
    "from sklearn.model_selection import train_test_split\n",
    "\n",
    "train_data, test_data = train_test_split(second_, test_size=0.2,stratify=final_df['label'],random_state=10)"
   ]
  },
  {
   "cell_type": "code",
   "execution_count": 46,
   "metadata": {},
   "outputs": [],
   "source": [
    "# predictor_RF = TabularPredictor(label='label', path=\"opencv_model_RF.pkl\")\n",
    "\n",
    "# predictor.fit(train_data=train_data, presets= 'high_quality',  hyperparameters={'GBM': {}, 'XGB': {}, 'RF': {}})\n",
    "# predictor_LGB.fit(train_data=train_data, presets= 'medium_quality',  hyperparameters={'LGB': {}})\n",
    "# predictor_RF.fit(train_data=train_data, presets='medium_quality', hyperparameters={'RF': {}})\n",
    "\n",
    "saved_model_path = r'./opencv_model_RF.pkl'\n",
    "predictor_RF = TabularPredictor.load(saved_model_path)"
   ]
  },
  {
   "cell_type": "code",
   "execution_count": 47,
   "metadata": {},
   "outputs": [
    {
     "name": "stdout",
     "output_type": "stream",
     "text": [
      "================test================\n",
      "0.9912769116555308\n",
      "              precision    recall  f1-score   support\n",
      "\n",
      "      bottle       1.00      0.99      0.99      1000\n",
      "         can       0.99      0.99      0.99       898\n",
      "       glass       1.00      1.00      1.00      1200\n",
      "       paper       0.97      1.00      0.98      1021\n",
      "   styrofoam       1.00      0.98      0.99      1269\n",
      "\n",
      "    accuracy                           0.99      5388\n",
      "   macro avg       0.99      0.99      0.99      5388\n",
      "weighted avg       0.99      0.99      0.99      5388\n",
      "\n",
      "================train================\n",
      "0.9990255672590599\n",
      "              precision    recall  f1-score   support\n",
      "\n",
      "      bottle       1.00      1.00      1.00      4000\n",
      "         can       1.00      1.00      1.00      3590\n",
      "       glass       1.00      1.00      1.00      4800\n",
      "       paper       1.00      1.00      1.00      4085\n",
      "   styrofoam       1.00      1.00      1.00      5076\n",
      "\n",
      "    accuracy                           1.00     21551\n",
      "   macro avg       1.00      1.00      1.00     21551\n",
      "weighted avg       1.00      1.00      1.00     21551\n",
      "\n"
     ]
    }
   ],
   "source": [
    "from sklearn.metrics import precision_score,recall_score,f1_score,accuracy_score,classification_report\n",
    "print('================test================')\n",
    "test_y_ = test_data['label']\n",
    "pred_y_ = predictor_RF.predict(test_data)\n",
    "\n",
    "print(accuracy_score(test_y_, pred_y_))\n",
    "print(classification_report(test_y_,pred_y_))\n",
    "\n",
    "print('================train================')\n",
    "train_y_ = train_data['label']\n",
    "pred_train_y_ = predictor_RF.predict(train_data)\n",
    "\n",
    "print(accuracy_score(train_y_, pred_train_y_))\n",
    "print(classification_report(train_y_,pred_train_y_))"
   ]
  },
  {
   "cell_type": "code",
   "execution_count": 48,
   "metadata": {},
   "outputs": [
    {
     "name": "stdout",
     "output_type": "stream",
     "text": [
      "*** Summary of fit() ***\n",
      "Estimated performance of each model:\n",
      "                 model  score_val  pred_time_val   fit_time  pred_time_val_marginal  fit_time_marginal  stack_level  can_infer  fit_order\n",
      "0         RandomForest    0.99026       0.255648  79.414343                0.255648          79.414343            1       True          1\n",
      "1  WeightedEnsemble_L2    0.99026       0.256649  79.418346                0.001001           0.004003            2       True          2\n",
      "Number of models trained: 2\n",
      "Types of models trained:\n",
      "{'WeightedEnsembleModel', 'RFModel'}\n",
      "Bagging used: False \n",
      "Multi-layer stack-ensembling used: False \n",
      "Feature Metadata (Processed):\n",
      "(raw dtype, special dtypes):\n",
      "('int', []) : 22501 | ['0', '1', '2', '3', '4', ...]\n",
      "*** End of fit() summary ***\n",
      "{'model_types': {'RandomForest': 'RFModel', 'WeightedEnsemble_L2': 'WeightedEnsembleModel'}, 'model_performance': {'RandomForest': 0.9902597402597403, 'WeightedEnsemble_L2': 0.9902597402597403}, 'model_best': 'WeightedEnsemble_L2', 'model_paths': {'RandomForest': ['RandomForest'], 'WeightedEnsemble_L2': ['WeightedEnsemble_L2']}, 'model_fit_times': {'RandomForest': 79.41434264183044, 'WeightedEnsemble_L2': 0.004003047943115234}, 'model_pred_times': {'RandomForest': 0.255648136138916, 'WeightedEnsemble_L2': 0.0010006427764892578}, 'num_bag_folds': 0, 'max_stack_level': 2, 'num_classes': 5, 'model_hyperparams': {'RandomForest': {'n_estimators': 300, 'max_leaf_nodes': 15000, 'n_jobs': -1, 'random_state': 0, 'bootstrap': True}, 'WeightedEnsemble_L2': {'use_orig_features': False, 'max_base_models': 25, 'max_base_models_per_type': 5, 'save_bag_folds': True}}, 'leaderboard':                  model  score_val  pred_time_val   fit_time  \\\n",
      "0         RandomForest    0.99026       0.255648  79.414343   \n",
      "1  WeightedEnsemble_L2    0.99026       0.256649  79.418346   \n",
      "\n",
      "   pred_time_val_marginal  fit_time_marginal  stack_level  can_infer  \\\n",
      "0                0.255648          79.414343            1       True   \n",
      "1                0.001001           0.004003            2       True   \n",
      "\n",
      "   fit_order  \n",
      "0          1  \n",
      "1          2  }\n"
     ]
    },
    {
     "name": "stderr",
     "output_type": "stream",
     "text": [
      "c:\\Users\\KDP-23\\anaconda3\\envs\\mypython\\lib\\site-packages\\autogluon\\core\\utils\\plots.py:169: UserWarning: AutoGluon summary plots cannot be created because bokeh is not installed. To see plots, please do: \"pip install bokeh==2.0.1\"\n",
      "  warnings.warn('AutoGluon summary plots cannot be created because bokeh is not installed. To see plots, please do: \"pip install bokeh==2.0.1\"')\n"
     ]
    }
   ],
   "source": [
    "results = predictor_RF.fit_summary()\n",
    "print(results) "
   ]
  },
  {
   "cell_type": "code",
   "execution_count": 52,
   "metadata": {},
   "outputs": [],
   "source": [
    "# 이미지 파일 경로\n",
    "image_path = './서울우유.png'\n",
    "\n",
    "# 이미지 열기\n",
    "image = cv2.imread(image_path, cv2.IMREAD_GRAYSCALE)\n",
    "\n",
    "# if image is not None:\n",
    "#     # 이미지 크기 조정\n",
    "#     resized_img = cv2.resize(image, (150, 150))\n",
    "\n",
    "#     # 데이터프레임 생성\n",
    "#     df = pd.DataFrame(resized_img.flatten()).T \n",
    "#     df.head()\n",
    "# else:\n",
    "#     print(\"이미지를 열 수 없습니다.\")\n",
    "image"
   ]
  },
  {
   "cell_type": "code",
   "execution_count": null,
   "metadata": {},
   "outputs": [],
   "source": [
    "results = predictor_RF.fit_summary()\n"
   ]
  }
 ],
 "metadata": {
  "kernelspec": {
   "display_name": "Python 3",
   "language": "python",
   "name": "python3"
  },
  "language_info": {
   "codemirror_mode": {
    "name": "ipython",
    "version": 3
   },
   "file_extension": ".py",
   "mimetype": "text/x-python",
   "name": "python",
   "nbconvert_exporter": "python",
   "pygments_lexer": "ipython3",
   "version": "3.9.17"
  },
  "orig_nbformat": 4
 },
 "nbformat": 4,
 "nbformat_minor": 2
}
