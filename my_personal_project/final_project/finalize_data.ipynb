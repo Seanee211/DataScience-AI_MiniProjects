{
 "cells": [
  {
   "cell_type": "code",
   "execution_count": 1,
   "metadata": {},
   "outputs": [],
   "source": [
    "import pandas as pd # 표 형식의 데이터를 다룰 수 있는 pandas를 pd라고 줄여서 불러옵니다\n",
    "from selenium import webdriver # 크롬 창을 조종하기 위한 모듈입니다\n",
    "from selenium.webdriver.common.by import By # 웹사이트의 구성요소를 선택하기 위해 By 모듈을 불려옵니다\n",
    "from selenium.webdriver.support.ui import WebDriverWait # 웹페이지가 전부 로드될때까지 기다리는 (Explicitly wait) 기능을 하는 모듈입니다\n",
    "from webdriver_manager.chrome import ChromeDriverManager # 크롬에서 크롤링을 하기 위해, 웹 드라이버를 설치하는 모듈입니다\n",
    "from selenium.webdriver.support import expected_conditions as EC # 크롬의 어떤 부분의 상태를 확인하는 모듈입니다\n",
    "from selenium.webdriver.chrome.service import Service\n",
    "from selenium.webdriver.common.keys import Keys\n",
    "import time # 정해진 시간만큼 기다리게 하기 위한 패키지입니다\n",
    "from tqdm import tqdm\n",
    "import requests # 페이지 요청\n",
    "from bs4 import BeautifulSoup "
   ]
  },
  {
   "cell_type": "code",
   "execution_count": 2,
   "metadata": {},
   "outputs": [],
   "source": [
    "new_keywords = []\n",
    "cost_list = [] # 사입 원가\n",
    "price_list = [] # 가격 변수\n",
    "purchase_list = [] # 구매 건수 변수\n",
    "review_list = [] # 리뷰 건수 변수\n",
    "jjim_list = [] # 찜 건수 변수"
   ]
  },
  {
   "cell_type": "code",
   "execution_count": 3,
   "metadata": {},
   "outputs": [],
   "source": [
    "# 스크롤 다운 함수화\n",
    "def scroll_down(driver):\n",
    "    position = 0\n",
    "\n",
    "    while True:\n",
    "        # 스크롤 다운\n",
    "        driver.execute_script(f\"window.scrollTo(0, {position});\")\n",
    "        \n",
    "        # 페이지 로딩 대기 및 위치 증가\n",
    "        position += 600\n",
    "        time.sleep(0.2)\n",
    "\n",
    "        # 새로운 높이 가져오고 비교하기 \n",
    "        new_height = driver.execute_script(\"return document.body.scrollHeight\")\n",
    "      \n",
    "        if position >= new_height:\n",
    "            break"
   ]
  },
  {
   "cell_type": "code",
   "execution_count": 4,
   "metadata": {},
   "outputs": [],
   "source": [
    "def extract_content(driver):\n",
    "    import re\n",
    "    element_text=[]\n",
    "    new = []\n",
    "\n",
    "    link_element = driver.find_elements(By.CLASS_NAME, 'product_list_item__b84TO') # 구매건수, 리뷰, 찜 뽑기\n",
    "    time.sleep(3)\n",
    "\n",
    "    #평점 뽑기\n",
    "    for idx in range(len(link_element)):\n",
    "        element_text.append([link_element[idx].text]) \n",
    "\n",
    "    for e in element_text:\n",
    "        e = \"\".join(e).replace('\\n', ' ').split()\n",
    "        result = any(re.search(r\"(?=.*구매)(?=.*리뷰)(?=.*찜)\", item) for item in e)\n",
    "        if '배송비' in e and result:\n",
    "            new.append(e)\n",
    "    try:    \n",
    "        for n in new:\n",
    "            for i in range(len(n)):\n",
    "                if n[i] == '배송비':\n",
    "                    price_list.append(int(n[i-1].replace('원','').replace(',','')))\n",
    "                elif ('구매' in n[i]) and ('리뷰' in n[i]) and ('찜' in n[i]):\n",
    "                    init_ = n[i].replace('구매', '').replace('리뷰', ' ').replace('찜', ' ').split() # 구매건수, 리뷰, 찜 추출\n",
    "                    purchase_list.append(int(init_[0].replace(',','')))\n",
    "                    review_list.append(int(init_[1].replace(',','')))\n",
    "                    jjim_list.append(int(init_[2].replace(',','')))\n",
    "                else: pass\n",
    "    except: pass"
   ]
  },
  {
   "cell_type": "code",
   "execution_count": 5,
   "metadata": {},
   "outputs": [],
   "source": [
    "def search_domaekook(keyword, driver):\n",
    "    driver.get('https://domeggook.com/main//')\n",
    "    driver.implicitly_wait(10) # 정보가 모두 뜰때까지 최대 10초를 기다린다.\n",
    "    time.sleep(1)\n",
    "\n",
    "    driver.find_element(By.CSS_SELECTOR,'#searchWordForm').send_keys(f'{keyword}')\n",
    "    time.sleep(1)\n",
    "    driver.find_element(By.CSS_SELECTOR, '#searchWordSubmit').click()\n",
    "    time.sleep(1)\n",
    "\n",
    "    # 인기상품순 클릭으로 인기순 정렬\n",
    "    driver.find_element(By.CSS_SELECTOR, '#lSort > li:nth-child(5) > a').click()\n",
    "    time.sleep(1)\n",
    "  \n",
    "    split_list = driver.find_elements(By.CLASS_NAME, 'amt')\n",
    "    time.sleep(1)\n",
    "\n",
    "    # 광고 없는 사입 상품들의 가격(사입원가)만 추출\n",
    "    try:\n",
    "        for s in split_list[1:]:\n",
    "                cost_list.append(int(s.text.replace('원','').replace(',','')))\n",
    "    except: pass\n",
    "    driver.close()"
   ]
  },
  {
   "cell_type": "code",
   "execution_count": 6,
   "metadata": {},
   "outputs": [],
   "source": [
    "def view_to_button(driver):\n",
    "        rs = driver.execute_script(\"return document.getElementsByClassName('paginator_btn_next__3fcZx')[0].getBoundingClientRect().top;\")\n",
    "        now_y = driver.execute_script(\"return window.scrollY\")\n",
    "        driver.execute_script(f\"window.scrollTo(0, {now_y + rs-200});\")"
   ]
  },
  {
   "cell_type": "code",
   "execution_count": 7,
   "metadata": {},
   "outputs": [],
   "source": [
    "def search_Naver(keyword, driver, page_num=10):\n",
    "    driver.get('https://shopping.naver.com/home')\n",
    "    driver.implicitly_wait(10)\n",
    "    time.sleep(2)\n",
    "\n",
    "    # 네이버 쇼핑 검색창 클릭\n",
    "    driver.find_element(By.CSS_SELECTOR, '#gnb-gnb > div > div._combineHeader_inner_2Uy4J > button > span').click()\n",
    "    time.sleep(3)\n",
    "    # 볼펜 입력\n",
    "    driver.find_element(By.CSS_SELECTOR,'#input_text').send_keys(f'{keyword}')\n",
    "    time.sleep(1)\n",
    "    # 돋보기 버튼 클릭\n",
    "    driver.find_element(By.CSS_SELECTOR, '#gnb-gnb > div > div._combineHeader_inner_2Uy4J > div._combineHeader_right_button_area_10E31 > button._combineHeader_button_2xfGa.N\\=a\\:scb\\.search').click()\n",
    "    time.sleep(1)\n",
    "    driver.find_element(By.CSS_SELECTOR, '#__next > div > div.style_container__IrlMV > div.basicFilter_filter_wrap__WgrCe > div.basicFilter_filter_button_area__A_l9Y > span:nth-child(4) > button > span').click()\n",
    "    time.sleep(1)\n",
    "    driver.find_element(By.CSS_SELECTOR, '#__next > div > div.style_container__IrlMV > div.basicFilter_filter_wrap__WgrCe > div.basicFilterDetail_basic_filter_option__VVSCg.basic_filter.active > div.flick_area > div > div > ul:nth-child(1) > li:nth-child(6) > button > span').click()\n",
    "    time.sleep(1)\n",
    "\n",
    "    scroll_down(driver)\n",
    "    # 네이버 메인 페이지 동적 크롤링\n",
    "    for _ in tqdm(range(page_num)):\n",
    "        extract_content(driver)# 중요 피쳐 데이터 추출 후 각 리스트에 담아내는 함수       \n",
    "        view_to_button(driver) # next 버튼의 좌표를 잡아주는 함수\n",
    "        time.sleep(0.2)\n",
    "                \n",
    "        # 페이지 넘기는 버튼 클릭\n",
    "        driver.find_element(By.CSS_SELECTOR, \"button.paginator_btn_next__3fcZx\").click()\n",
    "        time.sleep(0.2)\n",
    "        \n",
    "        scroll_down(driver)"
   ]
  },
  {
   "cell_type": "code",
   "execution_count": null,
   "metadata": {},
   "outputs": [],
   "source": [
    "def extract_adj_verb(keyword, driver):\n",
    "    from konlpy.tag import Okt\n",
    "    okt = Okt()\n",
    "\n",
    "    # 스크롤 처음부터\n",
    "    driver.execute_script(\"window.scrollTo(0, 0);\")\n",
    "    tag_list = []\n",
    "    li_tag = driver.find_elements(By.TAG_NAME, 'li')\n",
    "    time.sleep(1)\n",
    "    \n",
    "    related_keywords = []\n",
    "    for l in li_tag:\n",
    "        if not l.text.startswith('#') or len(l.text):\n",
    "            tag_list.append(l.text.replace('#',''))\n",
    "    filtered_list = list(filter(None, tag_list))\n",
    "    related_keywords.extend(filtered_list)\n",
    "\n",
    "    init_keywords = [] # 형용사 및 동사 추출용 리스트\n",
    "    final_keywords = [] # 최종 반환용 키워드 리스트(형용사 및 동사를 조합한 키워드 추출)\n",
    "\n",
    "    for k in related_keywords:\n",
    "        if keyword in k:\n",
    "            init_keywords.append(k)\n",
    "    \n",
    "    for word in init_keywords:\n",
    "        pos = okt.pos(word)\n",
    "        for word in init_keywords:\n",
    "            pos = okt.pos(word)\n",
    "            for p in pos:\n",
    "                if p[1] == 'Adjective' or p[1] == 'Verb':\n",
    "                    final_keywords.append(p[0]+keyword)\n",
    "    return final_keywords"
   ]
  },
  {
   "cell_type": "code",
   "execution_count": null,
   "metadata": {},
   "outputs": [],
   "source": [
    "DEBUG = False\n",
    "if DEBUG: keyword = input('키워드 입력: ')\n",
    "else: keyword ='볼펜'\n",
    "\n",
    "while True: # 함수 호출 및 프로그램 통합적 실행\n",
    "    driver = webdriver.Chrome(ChromeDriverManager().install())\n",
    "    search_domaekook(keyword, driver) # 사입원가 집합의 중앙값\n",
    "    search_Naver(keyword, driver, 5) # 키워드 검색 후 각 변수를 리스트에 담아내는 함수\n",
    "    # 연관 키워드 추출 -------------------------------------------------------\n",
    "    final_keywords = extract_adj_verb(keyword, driver)\n",
    "    \n",
    "    break"
   ]
  },
  {
   "cell_type": "code",
   "execution_count": 8,
   "metadata": {},
   "outputs": [
    {
     "name": "stderr",
     "output_type": "stream",
     "text": [
      "100%|██████████| 5/5 [00:47<00:00,  9.49s/it]\n"
     ]
    }
   ],
   "source": [
    "# DEBUG = False\n",
    "# if DEBUG: keyword = input('키워드 입력: ')\n",
    "# else: keyword ='볼펜'\n",
    "\n",
    "# final_keywords=[] \n",
    "# while True: # 함수 호출 및 프로그램 통합적 실행\n",
    "#     search_domaekook(keyword) # 사입원가 집합의 중앙값\n",
    "#     search_Naver(keyword, 5) # 키워드 검색 후 각 변수를 리스트에 담아내는 함수\n",
    "#     # 연관 키워드 추출 -------------------------------------------------------\n",
    "#     final_keywords=[] # 형용사 및 동사 추출용 리스트\n",
    "#     for k in new_keywords:\n",
    "#         if keyword in k:\n",
    "#             final_keywords.append(k)\n",
    "#     break\n"
   ]
  },
  {
   "cell_type": "code",
   "execution_count": 9,
   "metadata": {},
   "outputs": [
    {
     "data": {
      "text/plain": [
       "['산리오볼펜',\n",
       " '고급볼펜',\n",
       " '모나미볼펜',\n",
       " '파카볼펜',\n",
       " '몽블랑볼펜',\n",
       " '볼펜세트',\n",
       " '선물용볼펜',\n",
       " '명품볼펜',\n",
       " '각인볼펜',\n",
       " '캐릭터볼펜',\n",
       " '예쁜볼펜',\n",
       " '까렌다쉬볼펜',\n",
       " '지워지는볼펜',\n",
       " 'bic볼펜',\n",
       " '특이한볼펜',\n",
       " '백화점·홈쇼핑',\n",
       " '가격비교',\n",
       " '브랜드스토어',\n",
       " '공식몰',\n",
       " '인증몰',\n",
       " '소호몰',\n",
       " '연필',\n",
       " '홍디안만년필',\n",
       " '짱구필기구',\n",
       " '페인트마카',\n",
       " '지워지는볼펜',\n",
       " '오렌즈네로']"
      ]
     },
     "execution_count": 9,
     "metadata": {},
     "output_type": "execute_result"
    }
   ],
   "source": [
    "new_keywords"
   ]
  },
  {
   "cell_type": "code",
   "execution_count": 14,
   "metadata": {},
   "outputs": [
    {
     "data": {
      "text/plain": [
       "['산리오볼펜',\n",
       " '고급볼펜',\n",
       " '모나미볼펜',\n",
       " '파카볼펜',\n",
       " '몽블랑볼펜',\n",
       " '볼펜세트',\n",
       " '선물용볼펜',\n",
       " '명품볼펜',\n",
       " '각인볼펜',\n",
       " '캐릭터볼펜',\n",
       " '예쁜볼펜',\n",
       " '까렌다쉬볼펜',\n",
       " '지워지는볼펜',\n",
       " 'bic볼펜',\n",
       " '특이한볼펜',\n",
       " '지워지는볼펜']"
      ]
     },
     "execution_count": 14,
     "metadata": {},
     "output_type": "execute_result"
    }
   ],
   "source": [
    "final_keywords"
   ]
  },
  {
   "cell_type": "code",
   "execution_count": null,
   "metadata": {},
   "outputs": [],
   "source": []
  },
  {
   "cell_type": "code",
   "execution_count": 12,
   "metadata": {},
   "outputs": [],
   "source": [
    "# 전체 해당 키워드(상품군)의 사입원가 중앙값 추출(평균은 이상치에 민감하기 때문에 중앙값으로 도출)\n",
    "import statistics\n",
    "purchase_cost = statistics.median(cost_list) # 사입원가 집합의 중앙값"
   ]
  },
  {
   "cell_type": "code",
   "execution_count": 13,
   "metadata": {},
   "outputs": [
    {
     "data": {
      "text/plain": [
       "600"
      ]
     },
     "execution_count": 13,
     "metadata": {},
     "output_type": "execute_result"
    }
   ],
   "source": [
    "purchase_cost"
   ]
  },
  {
   "cell_type": "code",
   "execution_count": 16,
   "metadata": {},
   "outputs": [
    {
     "data": {
      "text/plain": [
       "(181, 181, 181, 181, 0)"
      ]
     },
     "execution_count": 16,
     "metadata": {},
     "output_type": "execute_result"
    }
   ],
   "source": [
    "len(price_list),len(purchase_list) ,len(review_list) ,len(jjim_list)"
   ]
  },
  {
   "cell_type": "code",
   "execution_count": null,
   "metadata": {},
   "outputs": [],
   "source": []
  },
  {
   "cell_type": "code",
   "execution_count": null,
   "metadata": {},
   "outputs": [],
   "source": []
  },
  {
   "cell_type": "code",
   "execution_count": null,
   "metadata": {},
   "outputs": [],
   "source": []
  },
  {
   "cell_type": "code",
   "execution_count": null,
   "metadata": {},
   "outputs": [],
   "source": []
  }
 ],
 "metadata": {
  "kernelspec": {
   "display_name": "mypython",
   "language": "python",
   "name": "python3"
  },
  "language_info": {
   "codemirror_mode": {
    "name": "ipython",
    "version": 3
   },
   "file_extension": ".py",
   "mimetype": "text/x-python",
   "name": "python",
   "nbconvert_exporter": "python",
   "pygments_lexer": "ipython3",
   "version": "3.9.17"
  }
 },
 "nbformat": 4,
 "nbformat_minor": 2
}
