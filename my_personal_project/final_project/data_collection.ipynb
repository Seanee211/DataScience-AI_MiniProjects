{
 "cells": [
  {
   "cell_type": "code",
   "execution_count": 1,
   "metadata": {},
   "outputs": [],
   "source": [
    "from crawling_functions import *"
   ]
  },
  {
   "cell_type": "code",
   "execution_count": 2,
   "metadata": {},
   "outputs": [],
   "source": [
    "DEBUG = True\n",
    "if DEBUG: keyword = input('키워드 입력: ')\n",
    "else: keyword ='볼펜'"
   ]
  },
  {
   "cell_type": "code",
   "execution_count": 3,
   "metadata": {},
   "outputs": [],
   "source": [
    "cost_list = [] # 사입원가 리스트 전역변수\n",
    "final_keywords = set() # 최종 반환용 연관키워드 리스트 전역변수 (형용사 및 동사를 조합한 키워드 추출)"
   ]
  },
  {
   "cell_type": "code",
   "execution_count": 5,
   "metadata": {},
   "outputs": [
    {
     "name": "stderr",
     "output_type": "stream",
     "text": [
      "100%|██████████| 20/20 [01:57<00:00,  5.85s/it]\n"
     ]
    },
    {
     "name": "stdout",
     "output_type": "stream",
     "text": [
      "{'모음전신발', '이쁜신발', '편한신발'}\n"
     ]
    },
    {
     "name": "stderr",
     "output_type": "stream",
     "text": [
      "100%|██████████| 20/20 [01:50<00:00,  5.51s/it]\n",
      "100%|██████████| 20/20 [02:02<00:00,  6.12s/it]\n",
      "100%|██████████| 20/20 [01:57<00:00,  5.88s/it]\n"
     ]
    }
   ],
   "source": [
    "# 함수 호출 및 크롤링 통합적 실행\n",
    "driver = webdriver.Chrome(ChromeDriverManager().install())\n",
    "driver_2 = webdriver.Chrome(ChromeDriverManager().install())\n",
    "\n",
    "price_list = [] # 가격 리스트 전역변수\n",
    "purchase_list = [] # 구매 건수 리스트 전역변수\n",
    "review_list = [] # 리뷰 건수 리스트 전역변수\n",
    "jjim_list = [] # 찜 건수 리스트 전역변수\n",
    "\n",
    "while True:\n",
    "    search_domaekook(keyword, driver, cost_list)\n",
    "    price_list_2, purchase_list_2, review_list_2, jjim_list_2 = search_Naver(keyword, driver)\n",
    "    price_list += price_list_2\n",
    "    purchase_list += purchase_list_2\n",
    "    review_list += review_list_2\n",
    "    jjim_list += jjim_list_2\n",
    "    extract_adj_verb(keyword, driver, final_keywords) # final_keywords 빈 리스트 연관 키워드 추가\n",
    "    \n",
    "    print(final_keywords)\n",
    "\n",
    "    for kword_ in final_keywords: # 추출된 연관 키워드 (형용사 or 동사) 크롤링\n",
    "        driver_2 = get_Naver_page(kword_, driver_2)\n",
    "\n",
    "        scroll_down(driver_2)\n",
    "        # 네이버 페이지별 추출\n",
    "        for _ in tqdm(range(20)):\n",
    "            extract_content(driver_2, price_list, purchase_list, review_list, jjim_list)# 중요 피쳐 데이터 추출 후 각 리스트에 담아내는 함수       \n",
    "            view_to_button(driver_2) # next 버튼의 좌표를 잡아주는 함수\n",
    "            time.sleep(0.3)\n",
    "                    \n",
    "            # 페이지 넘기는 버튼 클릭\n",
    "            driver_2.find_element(By.CSS_SELECTOR, \"button.paginator_btn_next__3fcZx\").click()\n",
    "            time.sleep(0.3)\n",
    "            \n",
    "            scroll_down(driver_2)\n",
    "    break\n",
    "driver_2.close()"
   ]
  },
  {
   "cell_type": "code",
   "execution_count": 6,
   "metadata": {},
   "outputs": [
    {
     "data": {
      "text/plain": [
       "{'모음전신발', '이쁜신발', '편한신발'}"
      ]
     },
     "execution_count": 6,
     "metadata": {},
     "output_type": "execute_result"
    }
   ],
   "source": [
    "final_keywords # 데이터 수집에 쓰여진 \"제품군 keyword\"의 연관 키워드들"
   ]
  },
  {
   "cell_type": "code",
   "execution_count": 7,
   "metadata": {},
   "outputs": [],
   "source": [
    "import statistics\n",
    "purchase_cost = statistics.median(cost_list) # 사입 원가들의 중앙값\n",
    "purchase_cost"
   ]
  },
  {
   "cell_type": "code",
   "execution_count": 8,
   "metadata": {},
   "outputs": [
    {
     "data": {
      "text/plain": [
       "(298, 298, 298, 298)"
      ]
     },
     "execution_count": 8,
     "metadata": {},
     "output_type": "execute_result"
    }
   ],
   "source": [
    "len(price_list),len(purchase_list) ,len(review_list) ,len(jjim_list)"
   ]
  },
  {
   "cell_type": "code",
   "execution_count": 9,
   "metadata": {},
   "outputs": [
    {
     "data": {
      "text/html": [
       "<div>\n",
       "<style scoped>\n",
       "    .dataframe tbody tr th:only-of-type {\n",
       "        vertical-align: middle;\n",
       "    }\n",
       "\n",
       "    .dataframe tbody tr th {\n",
       "        vertical-align: top;\n",
       "    }\n",
       "\n",
       "    .dataframe thead th {\n",
       "        text-align: right;\n",
       "    }\n",
       "</style>\n",
       "<table border=\"1\" class=\"dataframe\">\n",
       "  <thead>\n",
       "    <tr style=\"text-align: right;\">\n",
       "      <th></th>\n",
       "      <th>가격</th>\n",
       "      <th>구매건수</th>\n",
       "      <th>리뷰 건수</th>\n",
       "      <th>찜 건수</th>\n",
       "    </tr>\n",
       "  </thead>\n",
       "  <tbody>\n",
       "    <tr>\n",
       "      <th>0</th>\n",
       "      <td>37800</td>\n",
       "      <td>3700</td>\n",
       "      <td>1769</td>\n",
       "      <td>1723</td>\n",
       "    </tr>\n",
       "    <tr>\n",
       "      <th>1</th>\n",
       "      <td>69000</td>\n",
       "      <td>857</td>\n",
       "      <td>423</td>\n",
       "      <td>768</td>\n",
       "    </tr>\n",
       "    <tr>\n",
       "      <th>2</th>\n",
       "      <td>29000</td>\n",
       "      <td>1173</td>\n",
       "      <td>289</td>\n",
       "      <td>785</td>\n",
       "    </tr>\n",
       "    <tr>\n",
       "      <th>3</th>\n",
       "      <td>38900</td>\n",
       "      <td>1934</td>\n",
       "      <td>1067</td>\n",
       "      <td>1208</td>\n",
       "    </tr>\n",
       "    <tr>\n",
       "      <th>4</th>\n",
       "      <td>44900</td>\n",
       "      <td>1888</td>\n",
       "      <td>1039</td>\n",
       "      <td>1798</td>\n",
       "    </tr>\n",
       "    <tr>\n",
       "      <th>...</th>\n",
       "      <td>...</td>\n",
       "      <td>...</td>\n",
       "      <td>...</td>\n",
       "      <td>...</td>\n",
       "    </tr>\n",
       "    <tr>\n",
       "      <th>293</th>\n",
       "      <td>40900</td>\n",
       "      <td>5</td>\n",
       "      <td>23</td>\n",
       "      <td>12</td>\n",
       "    </tr>\n",
       "    <tr>\n",
       "      <th>294</th>\n",
       "      <td>12500</td>\n",
       "      <td>5</td>\n",
       "      <td>1</td>\n",
       "      <td>1</td>\n",
       "    </tr>\n",
       "    <tr>\n",
       "      <th>295</th>\n",
       "      <td>41900</td>\n",
       "      <td>2</td>\n",
       "      <td>3</td>\n",
       "      <td>5</td>\n",
       "    </tr>\n",
       "    <tr>\n",
       "      <th>296</th>\n",
       "      <td>18000</td>\n",
       "      <td>32</td>\n",
       "      <td>19</td>\n",
       "      <td>38</td>\n",
       "    </tr>\n",
       "    <tr>\n",
       "      <th>297</th>\n",
       "      <td>13350</td>\n",
       "      <td>9</td>\n",
       "      <td>1</td>\n",
       "      <td>5</td>\n",
       "    </tr>\n",
       "  </tbody>\n",
       "</table>\n",
       "<p>298 rows × 4 columns</p>\n",
       "</div>"
      ],
      "text/plain": [
       "        가격  구매건수  리뷰 건수  찜 건수\n",
       "0    37800  3700   1769  1723\n",
       "1    69000   857    423   768\n",
       "2    29000  1173    289   785\n",
       "3    38900  1934   1067  1208\n",
       "4    44900  1888   1039  1798\n",
       "..     ...   ...    ...   ...\n",
       "293  40900     5     23    12\n",
       "294  12500     5      1     1\n",
       "295  41900     2      3     5\n",
       "296  18000    32     19    38\n",
       "297  13350     9      1     5\n",
       "\n",
       "[298 rows x 4 columns]"
      ]
     },
     "execution_count": 9,
     "metadata": {},
     "output_type": "execute_result"
    }
   ],
   "source": [
    "import numpy as np\n",
    "\n",
    "final_data = [price_list, purchase_list, review_list, jjim_list]\n",
    "df = pd.DataFrame(np.array(final_data).T, columns=['가격', '구매건수', '리뷰 건수', '찜 건수']).dropna()\n",
    "df"
   ]
  },
  {
   "cell_type": "code",
   "execution_count": 10,
   "metadata": {},
   "outputs": [],
   "source": [
    "df[['구매건수','가격','리뷰 건수', '찜 건수']] = df[['구매건수','가격','리뷰 건수', '찜 건수']].astype(int)\n",
    "new_df = del_outlier_quantiles_columns(df, '가격') # 사분위수를 활용한 가격 컬럼 이상치 제거\n",
    "new_df = new_df.drop_duplicates().reset_index(drop=True)\n",
    "\n",
    "# 도매꾹의 사입원가들의 중앙값으로 원가 기준을 정했지만 그 숫자가 원가 50%보다 더 클 가능성이 있기 때문 원가조정 실행\n",
    "new_cost = (new_df.가격) * 0.5\n",
    "\n",
    "# 개당 원가 파생변수 추출 (0.1 은 10%의 부가세)\n",
    "new_df['개당 원가'] = np.where(purchase_cost > new_cost, \n",
    "                               new_cost + ((new_df.가격)*0.1), \n",
    "                               purchase_cost + ((new_df.가격)*0.1)) "
   ]
  },
  {
   "cell_type": "code",
   "execution_count": 11,
   "metadata": {},
   "outputs": [
    {
     "data": {
      "text/html": [
       "<div>\n",
       "<style scoped>\n",
       "    .dataframe tbody tr th:only-of-type {\n",
       "        vertical-align: middle;\n",
       "    }\n",
       "\n",
       "    .dataframe tbody tr th {\n",
       "        vertical-align: top;\n",
       "    }\n",
       "\n",
       "    .dataframe thead th {\n",
       "        text-align: right;\n",
       "    }\n",
       "</style>\n",
       "<table border=\"1\" class=\"dataframe\">\n",
       "  <thead>\n",
       "    <tr style=\"text-align: right;\">\n",
       "      <th></th>\n",
       "      <th>가격</th>\n",
       "      <th>구매건수</th>\n",
       "      <th>리뷰 건수</th>\n",
       "      <th>찜 건수</th>\n",
       "      <th>개당 원가</th>\n",
       "    </tr>\n",
       "  </thead>\n",
       "  <tbody>\n",
       "    <tr>\n",
       "      <th>0</th>\n",
       "      <td>37800</td>\n",
       "      <td>3700</td>\n",
       "      <td>1769</td>\n",
       "      <td>1723</td>\n",
       "      <td>11380.0</td>\n",
       "    </tr>\n",
       "    <tr>\n",
       "      <th>1</th>\n",
       "      <td>69000</td>\n",
       "      <td>857</td>\n",
       "      <td>423</td>\n",
       "      <td>768</td>\n",
       "      <td>14500.0</td>\n",
       "    </tr>\n",
       "    <tr>\n",
       "      <th>2</th>\n",
       "      <td>29000</td>\n",
       "      <td>1173</td>\n",
       "      <td>289</td>\n",
       "      <td>785</td>\n",
       "      <td>10500.0</td>\n",
       "    </tr>\n",
       "    <tr>\n",
       "      <th>3</th>\n",
       "      <td>38900</td>\n",
       "      <td>1934</td>\n",
       "      <td>1067</td>\n",
       "      <td>1208</td>\n",
       "      <td>11490.0</td>\n",
       "    </tr>\n",
       "    <tr>\n",
       "      <th>4</th>\n",
       "      <td>44900</td>\n",
       "      <td>1888</td>\n",
       "      <td>1039</td>\n",
       "      <td>1798</td>\n",
       "      <td>12090.0</td>\n",
       "    </tr>\n",
       "    <tr>\n",
       "      <th>...</th>\n",
       "      <td>...</td>\n",
       "      <td>...</td>\n",
       "      <td>...</td>\n",
       "      <td>...</td>\n",
       "      <td>...</td>\n",
       "    </tr>\n",
       "    <tr>\n",
       "      <th>254</th>\n",
       "      <td>40900</td>\n",
       "      <td>5</td>\n",
       "      <td>23</td>\n",
       "      <td>12</td>\n",
       "      <td>11690.0</td>\n",
       "    </tr>\n",
       "    <tr>\n",
       "      <th>255</th>\n",
       "      <td>12500</td>\n",
       "      <td>5</td>\n",
       "      <td>1</td>\n",
       "      <td>1</td>\n",
       "      <td>7500.0</td>\n",
       "    </tr>\n",
       "    <tr>\n",
       "      <th>256</th>\n",
       "      <td>41900</td>\n",
       "      <td>2</td>\n",
       "      <td>3</td>\n",
       "      <td>5</td>\n",
       "      <td>11790.0</td>\n",
       "    </tr>\n",
       "    <tr>\n",
       "      <th>257</th>\n",
       "      <td>18000</td>\n",
       "      <td>32</td>\n",
       "      <td>19</td>\n",
       "      <td>38</td>\n",
       "      <td>9400.0</td>\n",
       "    </tr>\n",
       "    <tr>\n",
       "      <th>258</th>\n",
       "      <td>13350</td>\n",
       "      <td>9</td>\n",
       "      <td>1</td>\n",
       "      <td>5</td>\n",
       "      <td>8010.0</td>\n",
       "    </tr>\n",
       "  </tbody>\n",
       "</table>\n",
       "<p>259 rows × 5 columns</p>\n",
       "</div>"
      ],
      "text/plain": [
       "        가격  구매건수  리뷰 건수  찜 건수    개당 원가\n",
       "0    37800  3700   1769  1723  11380.0\n",
       "1    69000   857    423   768  14500.0\n",
       "2    29000  1173    289   785  10500.0\n",
       "3    38900  1934   1067  1208  11490.0\n",
       "4    44900  1888   1039  1798  12090.0\n",
       "..     ...   ...    ...   ...      ...\n",
       "254  40900     5     23    12  11690.0\n",
       "255  12500     5      1     1   7500.0\n",
       "256  41900     2      3     5  11790.0\n",
       "257  18000    32     19    38   9400.0\n",
       "258  13350     9      1     5   8010.0\n",
       "\n",
       "[259 rows x 5 columns]"
      ]
     },
     "execution_count": 11,
     "metadata": {},
     "output_type": "execute_result"
    }
   ],
   "source": [
    "new_df"
   ]
  },
  {
   "cell_type": "code",
   "execution_count": 12,
   "metadata": {},
   "outputs": [
    {
     "name": "stdout",
     "output_type": "stream",
     "text": [
      "신발 -> shoes\n"
     ]
    }
   ],
   "source": [
    "from googletrans import Translator\n",
    "\n",
    "translator = Translator()\n",
    "text = keyword\n",
    "translated = translator.translate(text, src='ko', dest='en')\n",
    "\n",
    "print(translated.origin, '->', translated.text)\n"
   ]
  },
  {
   "cell_type": "code",
   "execution_count": 13,
   "metadata": {},
   "outputs": [],
   "source": [
    "new_df.to_csv(f'naver_{translated.text}_data.csv')"
   ]
  },
  {
   "cell_type": "code",
   "execution_count": null,
   "metadata": {},
   "outputs": [],
   "source": []
  }
 ],
 "metadata": {
  "kernelspec": {
   "display_name": "mypython",
   "language": "python",
   "name": "python3"
  },
  "language_info": {
   "codemirror_mode": {
    "name": "ipython",
    "version": 3
   },
   "file_extension": ".py",
   "mimetype": "text/x-python",
   "name": "python",
   "nbconvert_exporter": "python",
   "pygments_lexer": "ipython3",
   "version": "3.9.17"
  }
 },
 "nbformat": 4,
 "nbformat_minor": 2
}
